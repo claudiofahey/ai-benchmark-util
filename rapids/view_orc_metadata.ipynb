{
 "cells": [
  {
   "cell_type": "code",
   "execution_count": 59,
   "metadata": {},
   "outputs": [],
   "source": [
    "import os\n",
    "import glob\n",
    "import pyarrow.orc as orc"
   ]
  },
  {
   "cell_type": "code",
   "execution_count": 60,
   "metadata": {},
   "outputs": [
    {
     "data": {
      "text/plain": [
       "'/mnt/isilon/data/mortgage/from-spark3.orc/part-00000-cffe46c1-cd51-471f-9eca-7d6aa8342661-c000.snappy.orc'"
      ]
     },
     "execution_count": 60,
     "metadata": {},
     "output_type": "execute_result"
    }
   ],
   "source": [
    "orc_file = sorted(glob.glob('/mnt/isilon/data/mortgage/from-spark3.orc/*.orc'))[0]\n",
    "orc_file"
   ]
  },
  {
   "cell_type": "code",
   "execution_count": 61,
   "metadata": {},
   "outputs": [
    {
     "data": {
      "text/plain": [
       "333.7382516860962"
      ]
     },
     "execution_count": 61,
     "metadata": {},
     "output_type": "execute_result"
    }
   ],
   "source": [
    "os.path.getsize(orc_file) / 1024 / 1024"
   ]
  },
  {
   "cell_type": "code",
   "execution_count": 62,
   "metadata": {},
   "outputs": [],
   "source": [
    "o = orc.ORCFile(orc_file)"
   ]
  },
  {
   "cell_type": "code",
   "execution_count": 63,
   "metadata": {},
   "outputs": [
    {
     "data": {
      "text/plain": [
       "1"
      ]
     },
     "execution_count": 63,
     "metadata": {},
     "output_type": "execute_result"
    }
   ],
   "source": [
    "o.nstripes"
   ]
  },
  {
   "cell_type": "code",
   "execution_count": 64,
   "metadata": {},
   "outputs": [
    {
     "data": {
      "text/plain": [
       "333.7382516860962"
      ]
     },
     "execution_count": 64,
     "metadata": {},
     "output_type": "execute_result"
    }
   ],
   "source": [
    "os.path.getsize(orc_file) / o.nstripes / 1024 / 1024"
   ]
  },
  {
   "cell_type": "code",
   "execution_count": 65,
   "metadata": {},
   "outputs": [
    {
     "data": {
      "text/plain": [
       "14122037"
      ]
     },
     "execution_count": 65,
     "metadata": {},
     "output_type": "execute_result"
    }
   ],
   "source": [
    "o.nrows"
   ]
  },
  {
   "cell_type": "code",
   "execution_count": 66,
   "metadata": {},
   "outputs": [
    {
     "data": {
      "text/plain": [
       "loan_id: int64\n",
       "monthly_reporting_period: date32[day]\n",
       "servicer: string\n",
       "interest_rate: double\n",
       "current_actual_upb: double\n",
       "loan_age: double\n",
       "remaining_months_to_legal_maturity: double\n",
       "adj_remaining_months_to_maturity: double\n",
       "maturity_date: string\n",
       "msa: double\n",
       "current_loan_delinquency_status: int32\n",
       "mod_flag: string\n",
       "zero_balance_code: string\n",
       "zero_balance_effective_date: date32[day]\n",
       "last_paid_installment_date: date32[day]\n",
       "foreclosed_after: date32[day]\n",
       "disposition_date: date32[day]\n",
       "foreclosure_costs: double\n",
       "prop_preservation_and_repair_costs: double\n",
       "asset_recovery_costs: double\n",
       "misc_holding_expenses: double\n",
       "holding_taxes: double\n",
       "net_sale_proceeds: double\n",
       "credit_enhancement_proceeds: double\n",
       "repurchase_make_whole_proceeds: double\n",
       "other_foreclosure_proceeds: double\n",
       "non_interest_bearing_upb: double\n",
       "principal_forgiveness_upb: double\n",
       "repurchase_make_whole_proceeds_flag: string\n",
       "foreclosure_principal_write_off_amount: double\n",
       "servicing_activity_indicator: string"
      ]
     },
     "execution_count": 66,
     "metadata": {},
     "output_type": "execute_result"
    }
   ],
   "source": [
    "o.schema"
   ]
  },
  {
   "cell_type": "code",
   "execution_count": null,
   "metadata": {},
   "outputs": [],
   "source": []
  }
 ],
 "metadata": {
  "kernelspec": {
   "display_name": "Python 3",
   "language": "python",
   "name": "python3"
  },
  "language_info": {
   "codemirror_mode": {
    "name": "ipython",
    "version": 3
   },
   "file_extension": ".py",
   "mimetype": "text/x-python",
   "name": "python",
   "nbconvert_exporter": "python",
   "pygments_lexer": "ipython3",
   "version": "3.6.7"
  }
 },
 "nbformat": 4,
 "nbformat_minor": 4
}
