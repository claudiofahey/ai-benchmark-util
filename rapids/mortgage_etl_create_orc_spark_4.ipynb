{
 "cells": [
  {
   "cell_type": "code",
   "execution_count": 1,
   "metadata": {},
   "outputs": [],
   "source": [
    "import os\n",
    "import shutil\n",
    "import pyspark\n",
    "from pyspark.sql import SparkSession\n",
    "from pyspark.ml.feature import StringIndexer\n",
    "from pyspark.sql.types import IntegerType"
   ]
  },
  {
   "cell_type": "code",
   "execution_count": 2,
   "metadata": {},
   "outputs": [
    {
     "data": {
      "text/plain": [
       "'2.4.4'"
      ]
     },
     "execution_count": 2,
     "metadata": {},
     "output_type": "execute_result"
    }
   ],
   "source": [
    "pyspark.__version__"
   ]
  },
  {
   "cell_type": "code",
   "execution_count": 3,
   "metadata": {},
   "outputs": [],
   "source": [
    "def replace_string_columns(df):\n",
    "    \"\"\"Replace all string columns with integers.\n",
    "    This does not return the string to integer mappings.\"\"\"\n",
    "    df = df.fillna('')\n",
    "    df = df.cache()\n",
    "    for colname, dtype in df.dtypes:\n",
    "        if dtype == 'string':\n",
    "            indexer = StringIndexer(inputCol=colname, outputCol=colname + '_index')\n",
    "            df = indexer.fit(df).transform(df)\n",
    "            df = df.drop(colname)\n",
    "            df = df.withColumn(colname, df[colname + '_index'].cast(IntegerType()))\n",
    "            df = df.drop(colname + '_index')\n",
    "    return df"
   ]
  },
  {
   "cell_type": "code",
   "execution_count": 4,
   "metadata": {},
   "outputs": [],
   "source": [
    "def get_schema_ddl():\n",
    "    dtypes = [\n",
    "        (\"loan_id\", \"bigint\"),\n",
    "        (\"monthly_reporting_period\", \"date\"),\n",
    "        (\"servicer\", \"string\"),\n",
    "        (\"interest_rate\", \"double\"),\n",
    "        (\"current_actual_upb\", \"double\"),\n",
    "        (\"loan_age\", \"double\"),\n",
    "        (\"remaining_months_to_legal_maturity\", \"double\"),\n",
    "        (\"adj_remaining_months_to_maturity\", \"double\"),\n",
    "        (\"maturity_date\", \"string\"),\n",
    "        (\"msa\", \"double\"),\n",
    "        (\"current_loan_delinquency_status\", \"int\"),\n",
    "        (\"mod_flag\", \"string\"),\n",
    "        (\"zero_balance_code\", \"string\"),\n",
    "        (\"zero_balance_effective_date\", \"date\"),\n",
    "        (\"last_paid_installment_date\", \"date\"),\n",
    "        (\"foreclosed_after\", \"date\"),\n",
    "        (\"disposition_date\", \"date\"),\n",
    "        (\"foreclosure_costs\", \"double\"),\n",
    "        (\"prop_preservation_and_repair_costs\", \"double\"),\n",
    "        (\"asset_recovery_costs\", \"double\"),\n",
    "        (\"misc_holding_expenses\", \"double\"),\n",
    "        (\"holding_taxes\", \"double\"),\n",
    "        (\"net_sale_proceeds\", \"double\"),\n",
    "        (\"credit_enhancement_proceeds\", \"double\"),\n",
    "        (\"repurchase_make_whole_proceeds\", \"double\"),\n",
    "        (\"other_foreclosure_proceeds\", \"double\"),\n",
    "        (\"non_interest_bearing_upb\", \"double\"),\n",
    "        (\"principal_forgiveness_upb\", \"double\"),\n",
    "        (\"repurchase_make_whole_proceeds_flag\", \"string\"),\n",
    "        (\"foreclosure_principal_write_off_amount\", \"double\"),\n",
    "        (\"servicing_activity_indicator\", \"string\")\n",
    "    ]\n",
    "    schema = ','.join([' '.join(col) for col in dtypes])\n",
    "    return schema"
   ]
  },
  {
   "cell_type": "code",
   "execution_count": 5,
   "metadata": {},
   "outputs": [],
   "source": [
    "def get_data_path(\n",
    "    base_dir,\n",
    "    data_file_prefix,\n",
    "    size_multiplier,\n",
    "    partitions,\n",
    "    stripe_size_MiB,\n",
    "    compression,\n",
    "    file_format,\n",
    "    ):\n",
    "    \n",
    "    basename = '%s-%0.2fx-%dp-%dMiB-%s.%s' % (data_file_prefix, size_multiplier, partitions, stripe_size_MiB, compression, file_format)\n",
    "    return os.path.join(base_dir, basename)"
   ]
  },
  {
   "cell_type": "code",
   "execution_count": 6,
   "metadata": {},
   "outputs": [],
   "source": [
    "def get_mortgage_dataframe(\n",
    "    base_dir='/mnt/isilon1/data/mortgage',\n",
    "    input_file='perf/Performance_2001*.txt',\n",
    "    size_multiplier=1.0,\n",
    "    partitions=48,\n",
    "    stripe_size_MiB=64,\n",
    "    convert_strings=False,\n",
    "    ):\n",
    "    \n",
    "    spark = (SparkSession\n",
    "         .builder\n",
    "         .config('spark.driver.memory', '1000g')\n",
    "         .config('hive.exec.orc.default.stripe.size', stripe_size_MiB*1024*1024)\n",
    "         .getOrCreate()\n",
    "         )\n",
    "    input_path = os.path.join(base_dir, input_file)\n",
    "    schema = get_schema_ddl()\n",
    "    df = spark.read.load(input_path, format='csv', sep='|', schema=schema, header=False, dateFormat='MM/dd/yyyy')\n",
    "    if convert_strings:\n",
    "        df = replace_string_columns(df)\n",
    "    if size_multiplier != 1.0:\n",
    "        df = df.sample(True, size_multiplier, seed=7)\n",
    "    if partitions:\n",
    "        df = df.repartition(partitions)\n",
    "    return df"
   ]
  },
  {
   "cell_type": "code",
   "execution_count": 7,
   "metadata": {},
   "outputs": [],
   "source": [
    "def write_mortgage_dataframe(\n",
    "    df,\n",
    "    base_dir='/mnt/isilon1/data/mortgage',\n",
    "    data_file_prefix='perf-from-spark',\n",
    "    size_multiplier=1.0,\n",
    "    partitions=48,\n",
    "    stripe_size_MiB=64,\n",
    "    compression='snappy',\n",
    "    file_format='orc',\n",
    "    ):\n",
    "    \n",
    "    output_path = get_data_path(base_dir, data_file_prefix, size_multiplier, partitions, stripe_size_MiB, compression, file_format)\n",
    "    print('write_mortgage_dataframe: output_path=%s' % output_path)\n",
    "    if os.path.exists(output_path): shutil.rmtree(output_path)\n",
    "    (df.write\n",
    "     .format(file_format)\n",
    "     .option('compression',compression)\n",
    "     .save(output_path))\n",
    "    print('write_mortgage_dataframe: done.')    "
   ]
  },
  {
   "cell_type": "code",
   "execution_count": 8,
   "metadata": {},
   "outputs": [],
   "source": [
    "base_dir = '/mnt/isilon1/data/mortgage'\n",
    "input_file = 'perf/Performance_*.txt'\n",
    "data_file_prefix = 'perf-no-strings'\n",
    "convert_strings = True"
   ]
  },
  {
   "cell_type": "code",
   "execution_count": 9,
   "metadata": {},
   "outputs": [],
   "source": [
    "if False:\n",
    "    size_multiplier = 0.01\n",
    "    partitions = 48\n",
    "    stripe_size_MiB = 2048\n",
    "    df = get_mortgage_dataframe(\n",
    "            base_dir=base_dir,\n",
    "            input_file=input_file,\n",
    "            size_multiplier=size_multiplier,\n",
    "            partitions=partitions,\n",
    "            stripe_size_MiB=stripe_size_MiB,\n",
    "            )     "
   ]
  },
  {
   "cell_type": "code",
   "execution_count": 10,
   "metadata": {},
   "outputs": [
    {
     "name": "stdout",
     "output_type": "stream",
     "text": [
      "write_mortgage_dataframe: output_path=/mnt/isilon1/data/mortgage/perf-no-strings-6.00x-48p-2048MiB-snappy.orc\n",
      "write_mortgage_dataframe: done.\n",
      "CPU times: user 635 ms, sys: 300 ms, total: 935 ms\n",
      "Wall time: 40min 33s\n"
     ]
    }
   ],
   "source": [
    "%%time\n",
    "for size_multiplier in [6.0]:\n",
    "    for partitions in [48]:\n",
    "        for stripe_size_MiB in [2048]:            \n",
    "            df = get_mortgage_dataframe(\n",
    "                    base_dir=base_dir,\n",
    "                    input_file=input_file,\n",
    "                    size_multiplier=size_multiplier,\n",
    "                    partitions=partitions,\n",
    "                    stripe_size_MiB=stripe_size_MiB,\n",
    "                    convert_strings=convert_strings,\n",
    "                    )\n",
    "            for compression in ['snappy']:\n",
    "                for file_format in ['orc']:\n",
    "                    write_mortgage_dataframe(\n",
    "                        df,\n",
    "                        base_dir=base_dir,\n",
    "                        data_file_prefix=data_file_prefix,\n",
    "                        size_multiplier=size_multiplier,\n",
    "                        partitions=partitions,\n",
    "                        stripe_size_MiB=stripe_size_MiB,\n",
    "                        compression=compression,\n",
    "                        file_format=file_format,\n",
    "                        )"
   ]
  },
  {
   "cell_type": "code",
   "execution_count": null,
   "metadata": {},
   "outputs": [],
   "source": []
  }
 ],
 "metadata": {
  "kernelspec": {
   "display_name": "Python 3",
   "language": "python",
   "name": "python3"
  },
  "language_info": {
   "codemirror_mode": {
    "name": "ipython",
    "version": 3
   },
   "file_extension": ".py",
   "mimetype": "text/x-python",
   "name": "python",
   "nbconvert_exporter": "python",
   "pygments_lexer": "ipython3",
   "version": "3.7.3"
  }
 },
 "nbformat": 4,
 "nbformat_minor": 4
}
