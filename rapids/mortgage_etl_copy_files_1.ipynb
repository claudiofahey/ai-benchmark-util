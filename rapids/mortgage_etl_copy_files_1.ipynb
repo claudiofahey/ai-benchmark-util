{
 "cells": [
  {
   "cell_type": "code",
   "execution_count": 2,
   "metadata": {},
   "outputs": [],
   "source": [
    "import os\n",
    "import shutil\n",
    "import sys\n",
    "import pyspark\n",
    "from pyspark.sql import SparkSession"
   ]
  },
  {
   "cell_type": "code",
   "execution_count": 3,
   "metadata": {},
   "outputs": [],
   "source": [
    "spark = (SparkSession\n",
    "         .builder\n",
    "         .getOrCreate()\n",
    "         )"
   ]
  },
  {
   "cell_type": "code",
   "execution_count": 4,
   "metadata": {},
   "outputs": [],
   "source": [
    "#src_template = '/mnt/isilon%d/data/mortgage/perf-from-spark-3.00x-48p-2048MiB-snappy.orc'\n",
    "src_template = '/mnt/isilon%d/data/mortgage/perf-no-strings-3.00x-48p-2048MiB-snappy.orc'"
   ]
  },
  {
   "cell_type": "code",
   "execution_count": 5,
   "metadata": {},
   "outputs": [],
   "source": [
    "def copy_directory(i, ):\n",
    "    src = src_template % 1\n",
    "    dst = src_template % (i % 16 + 1) + '.%d' % i\n",
    "    print('copy_directory: i=%d, src=%s, dst=%s' % (i, src, dst))\n",
    "    if os.path.exists(dst): shutil.rmtree(dst)\n",
    "    shutil.copytree(src, dst)\n",
    "    return dst"
   ]
  },
  {
   "cell_type": "code",
   "execution_count": 6,
   "metadata": {},
   "outputs": [
    {
     "name": "stdout",
     "output_type": "stream",
     "text": [
      "CPU times: user 78.6 ms, sys: 16.4 ms, total: 95 ms\n",
      "Wall time: 8min 52s\n"
     ]
    },
    {
     "data": {
      "text/plain": [
       "['/mnt/isilon1/data/mortgage/perf-no-strings-3.00x-48p-2048MiB-snappy.orc.0',\n",
       " '/mnt/isilon2/data/mortgage/perf-no-strings-3.00x-48p-2048MiB-snappy.orc.1',\n",
       " '/mnt/isilon3/data/mortgage/perf-no-strings-3.00x-48p-2048MiB-snappy.orc.2',\n",
       " '/mnt/isilon4/data/mortgage/perf-no-strings-3.00x-48p-2048MiB-snappy.orc.3',\n",
       " '/mnt/isilon5/data/mortgage/perf-no-strings-3.00x-48p-2048MiB-snappy.orc.4',\n",
       " '/mnt/isilon6/data/mortgage/perf-no-strings-3.00x-48p-2048MiB-snappy.orc.5',\n",
       " '/mnt/isilon7/data/mortgage/perf-no-strings-3.00x-48p-2048MiB-snappy.orc.6',\n",
       " '/mnt/isilon8/data/mortgage/perf-no-strings-3.00x-48p-2048MiB-snappy.orc.7',\n",
       " '/mnt/isilon9/data/mortgage/perf-no-strings-3.00x-48p-2048MiB-snappy.orc.8',\n",
       " '/mnt/isilon10/data/mortgage/perf-no-strings-3.00x-48p-2048MiB-snappy.orc.9',\n",
       " '/mnt/isilon11/data/mortgage/perf-no-strings-3.00x-48p-2048MiB-snappy.orc.10',\n",
       " '/mnt/isilon12/data/mortgage/perf-no-strings-3.00x-48p-2048MiB-snappy.orc.11',\n",
       " '/mnt/isilon13/data/mortgage/perf-no-strings-3.00x-48p-2048MiB-snappy.orc.12',\n",
       " '/mnt/isilon14/data/mortgage/perf-no-strings-3.00x-48p-2048MiB-snappy.orc.13',\n",
       " '/mnt/isilon15/data/mortgage/perf-no-strings-3.00x-48p-2048MiB-snappy.orc.14',\n",
       " '/mnt/isilon16/data/mortgage/perf-no-strings-3.00x-48p-2048MiB-snappy.orc.15',\n",
       " '/mnt/isilon1/data/mortgage/perf-no-strings-3.00x-48p-2048MiB-snappy.orc.16',\n",
       " '/mnt/isilon2/data/mortgage/perf-no-strings-3.00x-48p-2048MiB-snappy.orc.17',\n",
       " '/mnt/isilon3/data/mortgage/perf-no-strings-3.00x-48p-2048MiB-snappy.orc.18',\n",
       " '/mnt/isilon4/data/mortgage/perf-no-strings-3.00x-48p-2048MiB-snappy.orc.19',\n",
       " '/mnt/isilon5/data/mortgage/perf-no-strings-3.00x-48p-2048MiB-snappy.orc.20',\n",
       " '/mnt/isilon6/data/mortgage/perf-no-strings-3.00x-48p-2048MiB-snappy.orc.21',\n",
       " '/mnt/isilon7/data/mortgage/perf-no-strings-3.00x-48p-2048MiB-snappy.orc.22',\n",
       " '/mnt/isilon8/data/mortgage/perf-no-strings-3.00x-48p-2048MiB-snappy.orc.23',\n",
       " '/mnt/isilon9/data/mortgage/perf-no-strings-3.00x-48p-2048MiB-snappy.orc.24',\n",
       " '/mnt/isilon10/data/mortgage/perf-no-strings-3.00x-48p-2048MiB-snappy.orc.25',\n",
       " '/mnt/isilon11/data/mortgage/perf-no-strings-3.00x-48p-2048MiB-snappy.orc.26',\n",
       " '/mnt/isilon12/data/mortgage/perf-no-strings-3.00x-48p-2048MiB-snappy.orc.27',\n",
       " '/mnt/isilon13/data/mortgage/perf-no-strings-3.00x-48p-2048MiB-snappy.orc.28',\n",
       " '/mnt/isilon14/data/mortgage/perf-no-strings-3.00x-48p-2048MiB-snappy.orc.29',\n",
       " '/mnt/isilon15/data/mortgage/perf-no-strings-3.00x-48p-2048MiB-snappy.orc.30',\n",
       " '/mnt/isilon16/data/mortgage/perf-no-strings-3.00x-48p-2048MiB-snappy.orc.31',\n",
       " '/mnt/isilon1/data/mortgage/perf-no-strings-3.00x-48p-2048MiB-snappy.orc.32',\n",
       " '/mnt/isilon2/data/mortgage/perf-no-strings-3.00x-48p-2048MiB-snappy.orc.33',\n",
       " '/mnt/isilon3/data/mortgage/perf-no-strings-3.00x-48p-2048MiB-snappy.orc.34',\n",
       " '/mnt/isilon4/data/mortgage/perf-no-strings-3.00x-48p-2048MiB-snappy.orc.35',\n",
       " '/mnt/isilon5/data/mortgage/perf-no-strings-3.00x-48p-2048MiB-snappy.orc.36',\n",
       " '/mnt/isilon6/data/mortgage/perf-no-strings-3.00x-48p-2048MiB-snappy.orc.37',\n",
       " '/mnt/isilon7/data/mortgage/perf-no-strings-3.00x-48p-2048MiB-snappy.orc.38',\n",
       " '/mnt/isilon8/data/mortgage/perf-no-strings-3.00x-48p-2048MiB-snappy.orc.39',\n",
       " '/mnt/isilon9/data/mortgage/perf-no-strings-3.00x-48p-2048MiB-snappy.orc.40',\n",
       " '/mnt/isilon10/data/mortgage/perf-no-strings-3.00x-48p-2048MiB-snappy.orc.41',\n",
       " '/mnt/isilon11/data/mortgage/perf-no-strings-3.00x-48p-2048MiB-snappy.orc.42',\n",
       " '/mnt/isilon12/data/mortgage/perf-no-strings-3.00x-48p-2048MiB-snappy.orc.43',\n",
       " '/mnt/isilon13/data/mortgage/perf-no-strings-3.00x-48p-2048MiB-snappy.orc.44',\n",
       " '/mnt/isilon14/data/mortgage/perf-no-strings-3.00x-48p-2048MiB-snappy.orc.45',\n",
       " '/mnt/isilon15/data/mortgage/perf-no-strings-3.00x-48p-2048MiB-snappy.orc.46',\n",
       " '/mnt/isilon16/data/mortgage/perf-no-strings-3.00x-48p-2048MiB-snappy.orc.47',\n",
       " '/mnt/isilon1/data/mortgage/perf-no-strings-3.00x-48p-2048MiB-snappy.orc.48',\n",
       " '/mnt/isilon2/data/mortgage/perf-no-strings-3.00x-48p-2048MiB-snappy.orc.49']"
      ]
     },
     "execution_count": 6,
     "metadata": {},
     "output_type": "execute_result"
    }
   ],
   "source": [
    "%%time\n",
    "spark.sparkContext.parallelize(range(50), numSlices=16).map(copy_directory).collect()"
   ]
  },
  {
   "cell_type": "code",
   "execution_count": null,
   "metadata": {},
   "outputs": [],
   "source": []
  }
 ],
 "metadata": {
  "kernelspec": {
   "display_name": "Python 3",
   "language": "python",
   "name": "python3"
  },
  "language_info": {
   "codemirror_mode": {
    "name": "ipython",
    "version": 3
   },
   "file_extension": ".py",
   "mimetype": "text/x-python",
   "name": "python",
   "nbconvert_exporter": "python",
   "pygments_lexer": "ipython3",
   "version": "3.7.3"
  }
 },
 "nbformat": 4,
 "nbformat_minor": 4
}
