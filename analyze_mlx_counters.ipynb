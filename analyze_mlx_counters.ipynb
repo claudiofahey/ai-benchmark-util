{
 "cells": [
  {
   "cell_type": "code",
   "execution_count": null,
   "metadata": {},
   "outputs": [],
   "source": [
    "%matplotlib inline\n",
    "import pandas as pd\n",
    "import numpy as np\n",
    "import matplotlib\n",
    "import matplotlib.pylab as plt\n",
    "import matplotlib.dates as mdates\n",
    "import matplotlib.cm as cm"
   ]
  },
  {
   "cell_type": "code",
   "execution_count": null,
   "metadata": {},
   "outputs": [],
   "source": [
    "raw_df = pd.read_csv('counters_vgg16_np48.csv', names=['t','counter','rate_recorded','filename'])\n",
    "raw_df"
   ]
  },
  {
   "cell_type": "code",
   "execution_count": null,
   "metadata": {},
   "outputs": [],
   "source": [
    "raw_df.filename.value_counts()"
   ]
  },
  {
   "cell_type": "code",
   "execution_count": null,
   "metadata": {},
   "outputs": [],
   "source": [
    "df = raw_df\n",
    "df.t = df.t - df.t.min()\n",
    "df = raw_df[raw_df.filename=='/sys/class/infiniband/mlx5_0/ports/1/counters/port_rcv_data']\n",
    "df = df.set_index(['t'])\n",
    "# Avoid round-off errors.\n",
    "df.counter -= df.counter.min()\n",
    "# Counter values are # of octets divided by 4. See https://community.mellanox.com/s/article/understanding-mlx5-linux-counters-and-status-parameters.\n",
    "df.counter *= 4  \n",
    "df = df[['counter','rate_recorded']]\n",
    "# df = df.iloc[::200].copy()"
   ]
  },
  {
   "cell_type": "code",
   "execution_count": null,
   "metadata": {},
   "outputs": [],
   "source": [
    "df['rate'] = pd.Series(index=df.index.values[1:], data=np.diff(df.counter)/np.diff(df.index.values)) * 1e-6"
   ]
  },
  {
   "cell_type": "code",
   "execution_count": null,
   "metadata": {},
   "outputs": [],
   "source": [
    "df.rate.mean()"
   ]
  },
  {
   "cell_type": "code",
   "execution_count": null,
   "metadata": {},
   "outputs": [],
   "source": [
    "df.loc[0:3].rate.plot(figsize=(20,4), style='.-');"
   ]
  },
  {
   "cell_type": "code",
   "execution_count": null,
   "metadata": {},
   "outputs": [],
   "source": []
  }
 ],
 "metadata": {
  "kernelspec": {
   "display_name": "Python 3",
   "language": "python",
   "name": "python3"
  },
  "language_info": {
   "codemirror_mode": {
    "name": "ipython",
    "version": 3
   },
   "file_extension": ".py",
   "mimetype": "text/x-python",
   "name": "python",
   "nbconvert_exporter": "python",
   "pygments_lexer": "ipython3",
   "version": "3.7.3"
  }
 },
 "nbformat": 4,
 "nbformat_minor": 4
}
