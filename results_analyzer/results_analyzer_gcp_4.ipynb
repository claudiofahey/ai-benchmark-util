{
 "cells": [
  {
   "cell_type": "markdown",
   "metadata": {
    "toc-hr-collapsed": false
   },
   "source": [
    "# Initialize"
   ]
  },
  {
   "cell_type": "code",
   "execution_count": null,
   "metadata": {},
   "outputs": [],
   "source": [
    "!pip install p3_data openpyxl"
   ]
  },
  {
   "cell_type": "code",
   "execution_count": null,
   "metadata": {},
   "outputs": [],
   "source": [
    "%matplotlib inline\n",
    "import pandas as pd\n",
    "import numpy as np\n",
    "import matplotlib\n",
    "import matplotlib.pylab as plt\n",
    "import matplotlib.dates as mdates\n",
    "import matplotlib.cm as cm\n",
    "import seaborn as sns\n",
    "import json\n",
    "from io import StringIO\n",
    "import importlib\n",
    "import re"
   ]
  },
  {
   "cell_type": "code",
   "execution_count": null,
   "metadata": {},
   "outputs": [],
   "source": [
    "import p3_data\n",
    "from p3_data import (glob_file_list , load_json_from_file, merge_dicts, plot_groups, \n",
    "    get_varying_column_names, filter_dataframe, take_varying_columns,\n",
    "    load_json_records_as_dataframe, flatten_multiindex_columns)"
   ]
  },
  {
   "cell_type": "code",
   "execution_count": null,
   "metadata": {},
   "outputs": [],
   "source": [
    "pd.options.display.max_colwidth = 200\n",
    "pd.options.display.max_columns = 50"
   ]
  },
  {
   "cell_type": "markdown",
   "metadata": {
    "toc-hr-collapsed": false
   },
   "source": [
    "# Load and Clean Results"
   ]
  },
  {
   "cell_type": "code",
   "execution_count": null,
   "metadata": {},
   "outputs": [],
   "source": [
    "%%time\n",
    "# Load result files from P3 Test Driver\n",
    "src_files = []\n",
    "src_files += ['../data/p3_test_driver/results/*.json.bz2']\n",
    "raw_df = load_json_records_as_dataframe(src=src_files, ignore_error=True)"
   ]
  },
  {
   "cell_type": "code",
   "execution_count": null,
   "metadata": {},
   "outputs": [],
   "source": [
    "raw_df.columns"
   ]
  },
  {
   "cell_type": "code",
   "execution_count": null,
   "metadata": {},
   "outputs": [],
   "source": [
    "def parse_images_per_sec(output):\n",
    "    \"\"\"Search for last occurance of: total images/sec: 8169.88\"\"\"\n",
    "    try:\n",
    "        for m in re.finditer('^total images/sec: ([.0-9]+)$', output, flags=re.MULTILINE):\n",
    "            pass\n",
    "        return float(m.groups()[0])\n",
    "    except:\n",
    "        return np.nan"
   ]
  },
  {
   "cell_type": "code",
   "execution_count": null,
   "metadata": {},
   "outputs": [],
   "source": [
    "data_dir_suffix_info_df = pd.DataFrame([\n",
    "    {'data_dir_suffix': '', 'mean_bytes_per_image': 147531475882/1281167},\n",
    "    {'data_dir_suffix': '-0.1x', 'mean_bytes_per_image': 147531475882/1281167},\n",
    "    {'data_dir_suffix': '-7x', 'mean_bytes_per_image': 147531475882/1281167},\n",
    "    {'data_dir_suffix': '-150x', 'mean_bytes_per_image': 147531475882/1281167},\n",
    "    {'data_dir_suffix': '-png2', 'mean_bytes_per_image': 1750011440471/1281167},\n",
    "]).set_index(['data_dir_suffix'])"
   ]
  },
  {
   "cell_type": "code",
   "execution_count": null,
   "metadata": {},
   "outputs": [],
   "source": [
    "# Clean raw results\n",
    "def clean_result(result):\n",
    "    try:\n",
    "        r = result.copy()\n",
    "        r['utc_begin'] = pd.to_datetime(r['utc_begin'], utc=True)\n",
    "        r['utc_end'] = pd.to_datetime(r['utc_end'], utc=True)\n",
    "        r['num_gpus'] = r['np']\n",
    "        r['images_per_sec'] = parse_images_per_sec(r['output'])\n",
    "        r['images_per_sec_per_gpu'] = r['images_per_sec'] / r['num_gpus']\n",
    "        r['image_format'] = 'JPEG'\n",
    "        return pd.Series(r)\n",
    "    except Exception as e:\n",
    "        print('ERROR: %s: %s' % (r['test_uuid'], e))\n",
    "        # raise e"
   ]
  },
  {
   "cell_type": "code",
   "execution_count": null,
   "metadata": {},
   "outputs": [],
   "source": [
    "#r = clean_result(raw_df.iloc[-1])\n",
    "#pd.DataFrame(r)"
   ]
  },
  {
   "cell_type": "code",
   "execution_count": null,
   "metadata": {},
   "outputs": [],
   "source": [
    "clean_df = raw_df.apply(clean_result, axis=1)\n",
    "clean_df = clean_df.set_index('test_uuid', drop=False)\n",
    "clean_df = clean_df[clean_df.error==False]\n",
    "clean_df = clean_df.sort_values(['utc_begin'])\n",
    "clean_df['num_copies'] = clean_df['num_copies'].fillna(1.0)\n",
    "clean_df.image_format = clean_df.image_format.fillna('JPEG')\n",
    "clean_df = clean_df.join(data_dir_suffix_info_df, on=['data_dir_suffix'])\n",
    "clean_df['MB_per_sec'] = clean_df['images_per_sec'] * clean_df['mean_bytes_per_image'] * 1e-6"
   ]
  },
  {
   "cell_type": "code",
   "execution_count": null,
   "metadata": {},
   "outputs": [],
   "source": [
    "# Clean other raw results\n",
    "def clean_other_result(result):\n",
    "    try:\n",
    "        r = result.copy()        \n",
    "        r['images_per_sec_per_gpu'] = r['images_per_sec'] / r['np']\n",
    "        r['NVIDIA_TENSORFLOW_VERSION'] = str(r['NVIDIA_TENSORFLOW_VERSION'])\n",
    "        return pd.Series(r)\n",
    "    except Exception as e:\n",
    "        #print('ERROR: %s: %s' % (r['test_uuid'], e))\n",
    "        raise e"
   ]
  },
  {
   "cell_type": "code",
   "execution_count": null,
   "metadata": {},
   "outputs": [],
   "source": [
    "if False:\n",
    "    raw_other_results_df = pd.read_csv('other_benchmark_results.csv')\n",
    "    clean_other_results_df = raw_other_results_df.apply(clean_other_result, axis=1)\n",
    "    combined_df = pd.concat([clean_df, clean_other_results_df], sort=False)\n",
    "else:\n",
    "    combined_df = clean_df"
   ]
  },
  {
   "cell_type": "markdown",
   "metadata": {
    "toc-hr-collapsed": true
   },
   "source": [
    "# Explore data"
   ]
  },
  {
   "cell_type": "code",
   "execution_count": null,
   "metadata": {},
   "outputs": [],
   "source": [
    "# Show list of columns\n",
    "list(clean_df.columns.values)"
   ]
  },
  {
   "cell_type": "code",
   "execution_count": null,
   "metadata": {},
   "outputs": [],
   "source": [
    "# Define columns that identify test parameters\n",
    "param_cols = [\n",
    " 'NVIDIA_TENSORFLOW_VERSION',\n",
    " 'TENSORFLOW_VERSION',\n",
    " 'batch_group_size',\n",
    " 'batch_size',\n",
    " 'cached',\n",
    " 'datasets_num_private_threads',\n",
    " 'datasets_prefetch_buffer_size',\n",
    " 'fp16',\n",
    " 'use_tf_layers',\n",
    " 'image_format',\n",
    " 'model',\n",
    " 'mpi',\n",
    " 'np',\n",
    " 'num_batches',\n",
    " 'num_gpus',\n",
    " 'num_hosts',\n",
    " 'num_inter_threads',\n",
    " 'num_intra_threads',\n",
    " 'nvlink',\n",
    " 'storage_type',\n",
    " 'tensorflow_benchmark_git_hash',\n",
    " 'test']"
   ]
  },
  {
   "cell_type": "code",
   "execution_count": null,
   "metadata": {},
   "outputs": [],
   "source": [
    "# Define columns that are the output of the experiments\n",
    "output_cols = [\n",
    "    'utc_begin',    \n",
    "    'images_per_sec',\n",
    "    'images_per_sec_per_gpu',\n",
    "    'MB_per_sec',\n",
    "]"
   ]
  },
  {
   "cell_type": "code",
   "execution_count": null,
   "metadata": {},
   "outputs": [],
   "source": [
    "cols = param_cols + output_cols"
   ]
  },
  {
   "cell_type": "code",
   "execution_count": null,
   "metadata": {},
   "outputs": [],
   "source": [
    "# View most recent results\n",
    "clean_df[cols].tail(3).T"
   ]
  },
  {
   "cell_type": "code",
   "execution_count": null,
   "metadata": {},
   "outputs": [],
   "source": [
    "# Export to CSV\n",
    "clean_df[cols].to_csv('results.csv')"
   ]
  },
  {
   "cell_type": "code",
   "execution_count": null,
   "metadata": {},
   "outputs": [],
   "source": [
    "clean_df.groupby(['model']).size()"
   ]
  },
  {
   "cell_type": "code",
   "execution_count": null,
   "metadata": {},
   "outputs": [],
   "source": [
    "clean_df.groupby(['storage_type']).size()"
   ]
  },
  {
   "cell_type": "markdown",
   "metadata": {},
   "source": [
    "# Full Comparison"
   ]
  },
  {
   "cell_type": "code",
   "execution_count": null,
   "metadata": {},
   "outputs": [],
   "source": [
    "# First level of filtering\n",
    "filt_df = filter_dataframe(\n",
    "    clean_df,\n",
    "    batch_size=64,\n",
    "    cached=False,\n",
    "#     image_format='PNG',\n",
    "    num_batches=(500,50000),\n",
    "    num_copies=7,\n",
    ")\n",
    "len(filt_df)"
   ]
  },
  {
   "cell_type": "code",
   "execution_count": null,
   "metadata": {},
   "outputs": [],
   "source": [
    "filt1_df = filter_dataframe(\n",
    "    filt_df,\n",
    "#     storage_type='isilon',\n",
    "#     NVIDIA_TENSORFLOW_VERSION='19.09',\n",
    "#      model='resnet50',\n",
    "#     np=48,\n",
    "#     num_batches=(500,50000),\n",
    "#     cached=False,\n",
    "#     num_copies=150,\n",
    "#     image_format='JPEG',\n",
    ")\n",
    "take_varying_columns(filt1_df[cols].sort_values(['MB_per_sec'], ascending=False)).T"
   ]
  },
  {
   "cell_type": "code",
   "execution_count": null,
   "metadata": {},
   "outputs": [],
   "source": [
    "df = filt1_df.fillna(0).groupby([\n",
    "    #'NVIDIA_TENSORFLOW_VERSION',\n",
    "    #'fp16',\n",
    "    'model',\n",
    "    'num_gpus',\n",
    "#     'mpi',\n",
    "#     'batch_size',\n",
    "    'storage_type',\n",
    "#      'cached',\n",
    "#     'use_tf_layers',\n",
    "#     'nvlink',\n",
    "#     'datasets_num_private_threads',\n",
    "#     'num_inter_threads',\n",
    "#     'num_intra_threads',\n",
    "]).agg({'images_per_sec_per_gpu': ['mean','count'],\n",
    "        'images_per_sec': ['min','mean','max'],\n",
    "        'MB_per_sec': ['mean']})\n",
    "df"
   ]
  },
  {
   "cell_type": "code",
   "execution_count": null,
   "metadata": {},
   "outputs": [],
   "source": [
    "df2 = df.unstack([\n",
    "#     'num_gpus',\n",
    "    #'datasets_num_private_threads',\n",
    "#     'batch_size',\n",
    "#     'NVIDIA_TENSORFLOW_VERSION',\n",
    "#     'cached',\n",
    "    'storage_type',\n",
    "#     'use_tf_layers',\n",
    "#     'nvlink',\n",
    "])\n",
    "df2"
   ]
  },
  {
   "cell_type": "code",
   "execution_count": null,
   "metadata": {},
   "outputs": [],
   "source": [
    "df2[('MB_per_sec','mean')]"
   ]
  },
  {
   "cell_type": "code",
   "execution_count": null,
   "metadata": {},
   "outputs": [],
   "source": [
    "df3 = df.unstack([\n",
    "    'num_gpus',\n",
    "    #'datasets_num_private_threads',\n",
    "#     'batch_size',\n",
    "#     'NVIDIA_TENSORFLOW_VERSION',\n",
    "#     'cached',\n",
    "    'storage_type',\n",
    "#     'use_tf_layers',\n",
    "#     'nvlink',\n",
    "])\n",
    "df3"
   ]
  },
  {
   "cell_type": "code",
   "execution_count": null,
   "metadata": {},
   "outputs": [],
   "source": [
    "flatten_multiindex_columns(df3).to_excel('training_results.xlsx')"
   ]
  },
  {
   "cell_type": "code",
   "execution_count": null,
   "metadata": {},
   "outputs": [],
   "source": []
  },
  {
   "cell_type": "markdown",
   "metadata": {},
   "source": [
    "# ResNet50 Scaling"
   ]
  },
  {
   "cell_type": "code",
   "execution_count": null,
   "metadata": {},
   "outputs": [],
   "source": [
    "filt_df = filter_dataframe(\n",
    "    clean_df,\n",
    "    batch_size=64,\n",
    "#     cached=False,\n",
    "    model='resnet50',\n",
    "    num_batches=(500,50000),\n",
    "    num_copies=[0.1,7],\n",
    ")\n",
    "len(filt_df)"
   ]
  },
  {
   "cell_type": "code",
   "execution_count": null,
   "metadata": {},
   "outputs": [],
   "source": [
    "filt1_df = filter_dataframe(\n",
    "    filt_df,\n",
    "    num_gpus=(9,120),\n",
    ")\n",
    "len(filt1_df)"
   ]
  },
  {
   "cell_type": "code",
   "execution_count": null,
   "metadata": {},
   "outputs": [],
   "source": [
    "tz = 'America/Los_Angeles'\n",
    "filt1_df.utc_begin.min().astimezone(tz=tz), filt1_df.utc_end.max().astimezone(tz=tz)"
   ]
  },
  {
   "cell_type": "code",
   "execution_count": null,
   "metadata": {},
   "outputs": [],
   "source": [
    "take_varying_columns(filt_df[cols].sort_values(['MB_per_sec'], ascending=False)).T"
   ]
  },
  {
   "cell_type": "code",
   "execution_count": null,
   "metadata": {},
   "outputs": [],
   "source": [
    "df = filt_df.fillna(0).groupby([\n",
    "    #'NVIDIA_TENSORFLOW_VERSION',\n",
    "    #'fp16',\n",
    "#     'model',\n",
    "    'num_gpus',\n",
    "#     'mpi',\n",
    "#     'batch_size',\n",
    "     'cached',\n",
    "    'storage_type',\n",
    "#     'use_tf_layers',\n",
    "#     'nvlink',\n",
    "#     'datasets_num_private_threads',\n",
    "#     'num_inter_threads',\n",
    "#     'num_intra_threads',\n",
    "]).agg({'images_per_sec_per_gpu': ['mean','count'],\n",
    "        'images_per_sec': ['min','mean','max'],\n",
    "        'MB_per_sec': ['mean']})\n",
    "df"
   ]
  },
  {
   "cell_type": "code",
   "execution_count": null,
   "metadata": {},
   "outputs": [],
   "source": [
    "df2 = df.unstack([\n",
    "#     'num_gpus',\n",
    "    #'datasets_num_private_threads',\n",
    "#     'batch_size',\n",
    "#     'NVIDIA_TENSORFLOW_VERSION',\n",
    "    'cached',\n",
    "    'storage_type',\n",
    "#     'use_tf_layers',\n",
    "#     'nvlink',\n",
    "])\n",
    "df2"
   ]
  },
  {
   "cell_type": "code",
   "execution_count": null,
   "metadata": {},
   "outputs": [],
   "source": [
    "flatten_multiindex_columns(df2).to_excel('resnet50_scaling.xlsx')"
   ]
  },
  {
   "cell_type": "code",
   "execution_count": null,
   "metadata": {},
   "outputs": [],
   "source": [
    "ax = df2[('MB_per_sec','mean')].plot(style='-x', grid=True, figsize=(12,6))\n",
    "ax.set_ylabel('Total MB/sec');"
   ]
  },
  {
   "cell_type": "markdown",
   "metadata": {},
   "source": [
    "# GPU Metrics"
   ]
  },
  {
   "cell_type": "code",
   "execution_count": null,
   "metadata": {},
   "outputs": [],
   "source": [
    "filt_df = filter_dataframe(\n",
    "    clean_df,\n",
    "    batch_size=64,\n",
    "    cached=False,\n",
    "    model='resnet50',\n",
    "    num_batches=(500,50000),\n",
    "    num_copies=7,\n",
    "    num_gpus=1*4,\n",
    "    storage_type='isilon',\n",
    ")\n",
    "len(filt_df)"
   ]
  },
  {
   "cell_type": "code",
   "execution_count": null,
   "metadata": {},
   "outputs": [],
   "source": [
    "#take_varying_columns(filt_df[cols].sort_values(['MB_per_sec'], ascending=False)).T"
   ]
  },
  {
   "cell_type": "code",
   "execution_count": null,
   "metadata": {},
   "outputs": [],
   "source": [
    "r = filt_df.iloc[-1]\n",
    "nvidia_df = pd.read_csv(StringIO(r.metrics['nvidia_smi']['output']))\n",
    "nvidia_df['timestamp_utc'] = pd.to_datetime(nvidia_df['timestamp'], utc=True)\n",
    "nvidia_df['gpu_util_pct'] = nvidia_df[' utilization.gpu [%]'].str.replace(' %','').astype(np.float)\n",
    "gpu0_df = nvidia_df[nvidia_df[' pci.bus_id']==' 00000000:00:04.0']\n",
    "ax = gpu0_df.set_index('timestamp_utc')['gpu_util_pct'].plot(ylim=[0,100], figsize=(12,4))\n",
    "ax.set_title('GPU Utilization, %s, %d GPUs' % (r.model, r.num_gpus));"
   ]
  },
  {
   "cell_type": "code",
   "execution_count": null,
   "metadata": {},
   "outputs": [],
   "source": []
  },
  {
   "cell_type": "code",
   "execution_count": null,
   "metadata": {},
   "outputs": [],
   "source": []
  }
 ],
 "metadata": {
  "kernelspec": {
   "display_name": "Python 3",
   "language": "python",
   "name": "python3"
  },
  "language_info": {
   "codemirror_mode": {
    "name": "ipython",
    "version": 3
   },
   "file_extension": ".py",
   "mimetype": "text/x-python",
   "name": "python",
   "nbconvert_exporter": "python",
   "pygments_lexer": "ipython3",
   "version": "3.7.3"
  },
  "toc-autonumbering": false,
  "toc-showcode": false,
  "toc-showmarkdowntxt": true,
  "toc-showtags": false
 },
 "nbformat": 4,
 "nbformat_minor": 4
}
