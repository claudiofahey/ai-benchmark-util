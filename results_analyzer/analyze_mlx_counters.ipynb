{
 "cells": [
  {
   "cell_type": "code",
   "execution_count": null,
   "metadata": {},
   "outputs": [],
   "source": [
    "%matplotlib inline\n",
    "import pandas as pd\n",
    "import numpy as np\n",
    "import matplotlib\n",
    "import matplotlib.pylab as plt\n",
    "import matplotlib.dates as mdates\n",
    "import matplotlib.cm as cm"
   ]
  },
  {
   "cell_type": "code",
   "execution_count": null,
   "metadata": {},
   "outputs": [],
   "source": [
    "filename = '../data/mlx_counters/counters_vgg16_np48_cached.csv'\n",
    "#filename = 'counters_vgg16_np32.csv'\n",
    "#filename = 'counters_resnet50_np48.csv'\n",
    "#filename = 'counters_inception4_np48.csv'"
   ]
  },
  {
   "cell_type": "code",
   "execution_count": null,
   "metadata": {},
   "outputs": [],
   "source": [
    "raw_df = pd.read_csv(filename, names=['t','counter','rate_gbps','device', 'port', 'counter_name'])"
   ]
  },
  {
   "cell_type": "code",
   "execution_count": null,
   "metadata": {},
   "outputs": [],
   "source": [
    "raw_df.iloc[0].t"
   ]
  },
  {
   "cell_type": "code",
   "execution_count": null,
   "metadata": {},
   "outputs": [],
   "source": [
    "df = raw_df.copy()\n",
    "# Start time at 0\n",
    "df.t = df.t - df.t.min()\n",
    "# Start counters at 0\n",
    "df['counter'] = df.groupby(['device','port','counter_name'])['counter'].transform(lambda x: x - x.min())\n",
    "df['MB'] = df['counter'] * 4e-6\n",
    "clean_df = df"
   ]
  },
  {
   "cell_type": "code",
   "execution_count": null,
   "metadata": {},
   "outputs": [],
   "source": [
    "df2 = clean_df[(clean_df.device==0)&(clean_df.port==1)&(clean_df.counter_name=='port_rcv_data')]"
   ]
  },
  {
   "cell_type": "code",
   "execution_count": null,
   "metadata": {},
   "outputs": [],
   "source": [
    "len(df2)/60"
   ]
  },
  {
   "cell_type": "code",
   "execution_count": null,
   "metadata": {},
   "outputs": [],
   "source": [
    "# Show mean and max rate\n",
    "clean_df.groupby(['device','port','counter_name'])[['rate_gbps']].agg(['mean','max'])"
   ]
  },
  {
   "cell_type": "code",
   "execution_count": null,
   "metadata": {},
   "outputs": [],
   "source": [
    "# Show total bytes\n",
    "clean_df.groupby(['device','port','counter_name'])[['MB']].max()"
   ]
  },
  {
   "cell_type": "code",
   "execution_count": null,
   "metadata": {},
   "outputs": [],
   "source": [
    "df = clean_df.copy()\n",
    "df = df[df.device.isin([0,1])]\n",
    "t0 = 0.20\n",
    "df = df[(df.t > t0) & (df.t < t0 + 2.0)]"
   ]
  },
  {
   "cell_type": "code",
   "execution_count": null,
   "metadata": {},
   "outputs": [],
   "source": [
    "fig0, ax0 = plt.subplots(figsize=(20,4))\n",
    "fig0.suptitle(filename, fontsize=12)\n",
    "for name, group in df.groupby(['device','counter_name']):\n",
    "    plt.plot(group.t.values, group.rate_gbps.values, '.-', label='device %d, %s' % name, axes=ax0, alpha=0.5, linewidth=1)\n",
    "ax0.grid('on', which='both', axis='y')\n",
    "ax0.legend(loc='best')\n",
    "ax0.set_ylabel('Gbps')\n",
    "ax0.set_xlabel('Time (seconds)')\n",
    "plt.show()\n",
    "plt.close()    "
   ]
  },
  {
   "cell_type": "code",
   "execution_count": null,
   "metadata": {},
   "outputs": [],
   "source": [
    "fig0, ax0 = plt.subplots(figsize=(20,4))\n",
    "fig0.suptitle(filename, fontsize=12)\n",
    "for name, group in df.groupby(['device','counter_name']):\n",
    "    plt.plot(group.t.values, group.MB.values, '-', label='device %d, %s' % name, axes=ax0, alpha=0.5, linewidth=2)\n",
    "ax0.grid('on', which='both', axis='y')\n",
    "ax0.legend(loc='best')\n",
    "ax0.set_ylabel('Total MB')\n",
    "ax0.set_xlabel('Time (seconds)')\n",
    "plt.show()\n",
    "plt.close()   "
   ]
  },
  {
   "cell_type": "code",
   "execution_count": null,
   "metadata": {},
   "outputs": [],
   "source": []
  }
 ],
 "metadata": {
  "kernelspec": {
   "display_name": "Python 3",
   "language": "python",
   "name": "python3"
  },
  "language_info": {
   "codemirror_mode": {
    "name": "ipython",
    "version": 3
   },
   "file_extension": ".py",
   "mimetype": "text/x-python",
   "name": "python",
   "nbconvert_exporter": "python",
   "pygments_lexer": "ipython3",
   "version": "3.7.3"
  }
 },
 "nbformat": 4,
 "nbformat_minor": 4
}
