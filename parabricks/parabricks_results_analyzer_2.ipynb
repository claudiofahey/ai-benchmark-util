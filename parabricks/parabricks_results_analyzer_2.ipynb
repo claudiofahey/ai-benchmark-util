{
 "cells": [
  {
   "cell_type": "markdown",
   "metadata": {},
   "source": [
    "# Initialize"
   ]
  },
  {
   "cell_type": "code",
   "execution_count": null,
   "metadata": {},
   "outputs": [],
   "source": [
    "!pip install p3_data openpyxl"
   ]
  },
  {
   "cell_type": "code",
   "execution_count": null,
   "metadata": {},
   "outputs": [],
   "source": [
    "%matplotlib inline\n",
    "import pandas as pd\n",
    "import numpy as np\n",
    "import matplotlib\n",
    "import matplotlib.pylab as plt\n",
    "import matplotlib.dates as mdates\n",
    "import matplotlib.cm as cm\n",
    "import seaborn as sns\n",
    "import json\n",
    "from io import StringIO\n",
    "import importlib\n",
    "import re"
   ]
  },
  {
   "cell_type": "code",
   "execution_count": null,
   "metadata": {},
   "outputs": [],
   "source": [
    "import p3_data\n",
    "from p3_data import (glob_file_list , load_json_from_file, merge_dicts, plot_groups, \n",
    "                    get_varying_column_names, filter_dataframe, take_varying_columns,\n",
    "                    load_json_records_as_dataframe, flatten_multiindex_columns,\n",
    "                    regex_first_group)"
   ]
  },
  {
   "cell_type": "code",
   "execution_count": null,
   "metadata": {},
   "outputs": [],
   "source": [
    "pd.set_option('display.max_rows', 200)"
   ]
  },
  {
   "cell_type": "markdown",
   "metadata": {
    "toc-hr-collapsed": false
   },
   "source": [
    "# Load and Clean Results"
   ]
  },
  {
   "cell_type": "code",
   "execution_count": null,
   "metadata": {},
   "outputs": [],
   "source": [
    "# Load result files from P3 Test Driver\n",
    "src_files = []\n",
    "# src_files += ['../../mnt/isilon/data/genomics/summary/*.json.bz2']\n",
    "src_files += ['../data/parabricks/summary/*.json.bz2']\n",
    "src_files += ['../data/parabricks/8440*/summary/*.json.bz2']\n",
    "raw_df = load_json_records_as_dataframe(src=src_files, ignore_error=True)"
   ]
  },
  {
   "cell_type": "code",
   "execution_count": null,
   "metadata": {},
   "outputs": [],
   "source": [
    "local_dirs = ['/raid','/tmp']\n",
    "isilon_dirs = ['/mnt/isilon']\n",
    "hostname_to_gpu_map = {\n",
    "    'isilon': 10,\n",
    "    'dgx2-1': 16,\n",
    "    'dgx2-2': 16,\n",
    "    'dgx2-3': 16,\n",
    "}"
   ]
  },
  {
   "cell_type": "code",
   "execution_count": null,
   "metadata": {},
   "outputs": [],
   "source": [
    "# Clean raw results\n",
    "def clean_result(result):\n",
    "    r = result.copy()\n",
    "    r['clean'] = False\n",
    "    try:\n",
    "        r['utc_begin'] = pd.to_datetime(r['utc_begin'], utc=True)\n",
    "        r['utc_end'] = pd.to_datetime(r['utc_end'], utc=True)\n",
    "        r['total_minutes'] = r['elapsed_sec'] / 60.0        \n",
    "        r['num_gpus_per_server'] = hostname_to_gpu_map.get(r['hostname'], np.nan)        \n",
    "        r['num_servers'] = r['num_gpus'] / r['num_gpus_per_server']  # fraction of server used for this job\n",
    "        r['total_server_minutes'] = r['num_servers'] * r['elapsed_sec'] / 60.0\n",
    "        r['total_gpu_minutes'] = r['num_gpus'] * r['elapsed_sec'] / 60.0\n",
    "\n",
    "        data_layout = np.nan\n",
    "        r['is_input_isilon'] = any([d in r.args['input_dir'] for d in isilon_dirs])\n",
    "        r['is_input_local'] = any([d in r.args['input_dir'] for d in local_dirs])\n",
    "        r['is_temp_isilon'] = any([d in r.args['temp_dir'] for d in isilon_dirs])\n",
    "        r['is_temp_local'] = any([d in r.args['temp_dir'] for d in local_dirs])\n",
    "        if r.is_input_isilon and r.is_temp_local:\n",
    "            data_layout = 'mixed'\n",
    "        elif r.is_input_isilon and r.is_temp_isilon:\n",
    "            data_layout = 'all_isilon'\n",
    "        elif r.is_input_local and r.is_temp_local:\n",
    "            data_layout = 'all_local'        \n",
    "        r['data_layout'] = data_layout\n",
    "        \n",
    "        if not ('error' in r and r['error']==True):\n",
    "            r['error'] = False\n",
    "        \n",
    "        if 'fq2bam_result' in r and isinstance(r.fq2bam_result, dict) and not r.fq2bam_result['error']:\n",
    "            r['parabricks_version'] = regex_first_group('Version v([^ ]+)', r['fq2bam_result']['errors'], search=True)\n",
    "            r['bwa_mem_sec'] = float(regex_first_group('GPU-BWA Mem time: (.*) seconds', r.fq2bam_result['errors'], search=True))\n",
    "            r['fq2bam_sec'] = r.fq2bam_result['elapsed_sec']\n",
    "            if r.fq2bam_result['error']: r['error'] = True\n",
    "            # GPU-BWA Mem + Sorting + MarkingDups + BQSR Generation + BAM writing\n",
    "            r['bwa_mem_to_bam_writing_sec'] = float(regex_first_group('Processing time: (.*) seconds', r.fq2bam_result['errors'], search=True))\n",
    "            # Sorting + MarkingDups + BQSR Generation + BAM writing\n",
    "            r['sorting_to_bam_writing_sec'] = r['bwa_mem_to_bam_writing_sec'] - r['bwa_mem_sec']\n",
    "            r['bwa_mem_minutes'] = r['bwa_mem_sec'] / 60.0\n",
    "            r['bwa_mem_to_bam_writing_minutes'] = r['bwa_mem_to_bam_writing_sec'] / 60.0\n",
    "            r['sorting_to_bam_writing_minutes'] = r['sorting_to_bam_writing_sec'] / 60.0\n",
    "            r['bwa_mem_to_bam_writing_server_minutes'] = r['num_servers'] * r['bwa_mem_to_bam_writing_sec'] / 60.0\n",
    "            r['bwa_mem_to_bam_writing_gpu_minutes'] = r['num_gpus'] * r['bwa_mem_to_bam_writing_sec'] / 60.0\n",
    "            r['fq_file_size_bytes'] = np.sum(r.fq_file_sizes)\n",
    "            r['fq_file_size_GB'] = r['fq_file_size_bytes'] * 1e-9\n",
    "            r['bam_file_size_GB'] = r['bam_file_size_bytes'] * 1e-9\n",
    "            r['bwa_mem_to_bam_writing_utc_begin'] = pd.to_datetime(r.fq2bam_result['utc_begin'], utc=True)\n",
    "            r['bwa_mem_to_bam_writing_utc_end'] = pd.to_datetime(r.fq2bam_result['utc_end'], utc=True)\n",
    "\n",
    "        if 'germline_result' in r and isinstance(r.germline_result, dict) and not r.germline_result['error']:\n",
    "            r['parabricks_version'] = regex_first_group('Version v([^ ]+)', r['germline_result']['errors'], search=True)\n",
    "            r['bwa_mem_sec'] = float(regex_first_group('GPU-BWA Mem time: (.*) seconds', r.germline_result['errors'], search=True))\n",
    "            r['germline_sec'] = r.germline_result['elapsed_sec']\n",
    "            if r.germline_result['error']: r['error'] = True\n",
    "            # GPU-BWA Mem + Sorting + MarkingDups + BQSR Generation + BAM writing\n",
    "            r['bwa_mem_to_bam_writing_sec'] = float(regex_first_group('Processing time: (.*) seconds', r.germline_result['errors'], search=True))\n",
    "            # Sorting + MarkingDups + BQSR Generation + BAM writing\n",
    "            r['sorting_to_bam_writing_sec'] = r['bwa_mem_to_bam_writing_sec'] - r['bwa_mem_sec']\n",
    "            r['haplotypecaller_sec'] = float(regex_first_group('Total time taken: (.*)', r.germline_result['errors'], search=True))\n",
    "            r['germline_minutes'] = r['germline_sec'] / 60.0\n",
    "            r['bwa_mem_minutes'] = r['bwa_mem_sec'] / 60.0\n",
    "            r['bwa_mem_to_bam_writing_minutes'] = r['bwa_mem_to_bam_writing_sec'] / 60.0\n",
    "            r['sorting_to_bam_writing_minutes'] = r['sorting_to_bam_writing_sec'] / 60.0\n",
    "            r['haplotypecaller_minutes'] = r['haplotypecaller_sec'] / 60.0\n",
    "            r['bwa_mem_to_bam_writing_server_minutes'] = r['num_servers'] * r['bwa_mem_to_bam_writing_sec'] / 60.0\n",
    "            r['bwa_mem_to_bam_writing_gpu_minutes'] = r['num_gpus'] * r['bwa_mem_to_bam_writing_sec'] / 60.0\n",
    "            r['haplotypecaller_server_minutes'] = r['num_servers'] * r['haplotypecaller_sec'] / 60.0\n",
    "            r['haplotypecaller_gpu_minutes'] = r['num_gpus'] * r['haplotypecaller_sec'] / 60.0\n",
    "            r['fq_file_size_bytes'] = np.sum(r.fq_file_sizes)\n",
    "            r['fq_file_size_GB'] = r['fq_file_size_bytes'] * 1e-9\n",
    "            r['bam_file_size_GB'] = r['bam_file_size_bytes'] * 1e-9\n",
    "            r['haplotypecaller_gvcf_file_size_GB'] = r['haplotypecaller_gvcf_file_size_bytes'] * 1e-9\n",
    "            r['bwa_mem_to_bam_writing_utc_begin'] = pd.to_datetime(r.germline_result['utc_begin'], utc=True)\n",
    "            r['bwa_mem_to_bam_writing_utc_end'] = r['bwa_mem_to_bam_writing_utc_begin'] + pd.to_timedelta(r['bwa_mem_to_bam_writing_sec'], unit='sec')\n",
    "            r['bwa_mem_utc_end'] = r['bwa_mem_to_bam_writing_utc_begin'] + pd.to_timedelta(r['bwa_mem_sec'], unit='sec')\n",
    "            r['haplotypecaller_utc_begin'] = r['bwa_mem_to_bam_writing_utc_end']\n",
    "            r['haplotypecaller_utc_end'] = pd.to_datetime(r.germline_result['utc_end'], utc=True)\n",
    "                \n",
    "        if 'deepvariant_result' in r and isinstance(r.deepvariant_result, dict) and not r.deepvariant_result['error']:\n",
    "            r['deepvariant_sec'] = r.deepvariant_result['elapsed_sec']\n",
    "            if r.deepvariant_result['error']: r['error'] = True\n",
    "            r['deepvariant_minutes'] = r['deepvariant_sec'] / 60.0\n",
    "            r['deepvariant_server_minutes'] = r['num_servers'] * r['deepvariant_sec'] / 60.0            \n",
    "            r['deepvariant_gpu_minutes'] = r['num_gpus'] * r['deepvariant_sec'] / 60.0            \n",
    "            r['deepvariant_gvcf_file_size_GB'] = r['deepvariant_gvcf_file_size_bytes'] * 1e-9\n",
    "            r['deepvariant_utc_begin'] = pd.to_datetime(r.deepvariant_result['utc_begin'], utc=True)\n",
    "            r['deepvariant_utc_end'] = pd.to_datetime(r.deepvariant_result['utc_end'], utc=True)\n",
    "       \n",
    "        r['clean'] = True\n",
    "    except Exception as e:\n",
    "        print('ERROR: %s: %s' % (r['loaded_filename'], e))\n",
    "        raise e\n",
    "    return pd.Series(r)"
   ]
  },
  {
   "cell_type": "code",
   "execution_count": null,
   "metadata": {},
   "outputs": [],
   "source": [
    "r = clean_result(raw_df.iloc[-1])\n",
    "pd.DataFrame(r)"
   ]
  },
  {
   "cell_type": "code",
   "execution_count": null,
   "metadata": {},
   "outputs": [],
   "source": [
    "clean1_df = raw_df.apply(clean_result, axis=1)\n",
    "clean1_df = clean1_df.set_index('record_uuid', drop=False)\n",
    "clean1_df = clean1_df.sort_values(['utc_begin'])"
   ]
  },
  {
   "cell_type": "code",
   "execution_count": null,
   "metadata": {},
   "outputs": [],
   "source": [
    "clean1_df = clean1_df[clean1_df.clean==True]\n",
    "clean1_df = clean1_df[clean1_df.error==False]"
   ]
  },
  {
   "cell_type": "code",
   "execution_count": null,
   "metadata": {},
   "outputs": [],
   "source": [
    "len(clean1_df)"
   ]
  },
  {
   "cell_type": "code",
   "execution_count": null,
   "metadata": {},
   "outputs": [],
   "source": [
    "sample_ids_df = pd.read_csv('sample_ids_300.csv').set_index(['sample_id'])\n",
    "sample_ids_df.head()"
   ]
  },
  {
   "cell_type": "code",
   "execution_count": null,
   "metadata": {},
   "outputs": [],
   "source": [
    "clean_df = clean1_df.join(sample_ids_df, on=['sample_id'])\n",
    "clean_df['coverage_binned'] = (pd.cut(clean_df['coverage'], bins=[35,40,45,50,51.7,68,80,85], right=False)\n",
    "                               .apply(lambda x: np.round(x.left)).astype(float))\n",
    "clean_df.head(3).T"
   ]
  },
  {
   "cell_type": "markdown",
   "metadata": {
    "toc-hr-collapsed": true
   },
   "source": [
    "# Explore Data"
   ]
  },
  {
   "cell_type": "code",
   "execution_count": null,
   "metadata": {},
   "outputs": [],
   "source": [
    "clean_df.parabricks_version.value_counts()"
   ]
  },
  {
   "cell_type": "code",
   "execution_count": null,
   "metadata": {},
   "outputs": [],
   "source": [
    "filt_df = filter_dataframe(\n",
    "    clean_df,\n",
    "    num_gpus=5,\n",
    "#     coverage_binned=50,\n",
    "    total_minutes=(15,1000),\n",
    "#     parabricks_version='2.3.2',\n",
    ")\n",
    "len(filt_df)"
   ]
  },
  {
   "cell_type": "code",
   "execution_count": null,
   "metadata": {},
   "outputs": [],
   "source": [
    "filt_df.iloc[0].T"
   ]
  },
  {
   "cell_type": "code",
   "execution_count": null,
   "metadata": {},
   "outputs": [],
   "source": [
    "# Define columns that identify test parameters\n",
    "param_cols = [\n",
    "    'sample_id',\n",
    "    'coverage',\n",
    "    'num_gpus',\n",
    "    'parabricks_version',\n",
    "]"
   ]
  },
  {
   "cell_type": "code",
   "execution_count": null,
   "metadata": {},
   "outputs": [],
   "source": [
    "# Define columns that are the output of the experiments\n",
    "output_cols = [\n",
    "    'utc_begin',\n",
    "    'bwa_mem_to_bam_writing_minutes',\n",
    "    'haplotypecaller_minutes',\n",
    "    'deepvariant_minutes',\n",
    "]"
   ]
  },
  {
   "cell_type": "code",
   "execution_count": null,
   "metadata": {},
   "outputs": [],
   "source": [
    "cols = param_cols + output_cols"
   ]
  },
  {
   "cell_type": "code",
   "execution_count": null,
   "metadata": {},
   "outputs": [],
   "source": [
    "# View most recent results\n",
    "filt_df[cols].tail(10).T"
   ]
  },
  {
   "cell_type": "code",
   "execution_count": null,
   "metadata": {},
   "outputs": [],
   "source": [
    "clean_df[cols].set_index(['sample_id']).sort_values(['coverage'])"
   ]
  },
  {
   "cell_type": "markdown",
   "metadata": {},
   "source": [
    "# Compare different GPUs/sample"
   ]
  },
  {
   "cell_type": "code",
   "execution_count": null,
   "metadata": {},
   "outputs": [],
   "source": [
    "filt_df = filter_dataframe(\n",
    "    clean_df,\n",
    "    batch_uuid=[\n",
    "        'c9bd8b49-42ec-48de-a80f-99bcd0770964', # DGX-2, 8 GPUs\n",
    "        '6f9eeed6-3b09-4000-9d37-6eed11281f83', # DGX-2, 4 GPUs\n",
    "        '84a1ead5-f050-4e9a-ae31-9034fa9bf558', # 8440, 5 GPUs\n",
    "    ],\n",
    ")\n",
    "len(filt_df)"
   ]
  },
  {
   "cell_type": "code",
   "execution_count": null,
   "metadata": {},
   "outputs": [],
   "source": [
    "filt_df[cols].set_index(['coverage','sample_id','num_gpus']).unstack(['num_gpus'])"
   ]
  },
  {
   "cell_type": "code",
   "execution_count": null,
   "metadata": {},
   "outputs": [],
   "source": [
    "groupby_cols = [\n",
    "    'coverage_binned',\n",
    "    'num_gpus',\n",
    "]\n",
    "df = filt_df.groupby(groupby_cols).agg({'coverage': ['min','mean','max','size']}).unstack(['num_gpus'])\n",
    "df.to_excel('results_coverage.xlsx')\n",
    "df"
   ]
  },
  {
   "cell_type": "code",
   "execution_count": null,
   "metadata": {},
   "outputs": [],
   "source": [
    "groupby_cols = [\n",
    "    'coverage_binned',\n",
    "    'num_gpus',\n",
    "]\n",
    "agg_cols = [\n",
    "    'total_minutes',\n",
    "    'bwa_mem_to_bam_writing_minutes',\n",
    "    'haplotypecaller_minutes',\n",
    "    'deepvariant_minutes',\n",
    "]\n",
    "df = filt_df[groupby_cols + agg_cols].groupby(groupby_cols).agg(['min','mean','max']).unstack(['num_gpus'])\n",
    "df.to_excel('results_wall_clock_times.xlsx')\n",
    "df.T"
   ]
  },
  {
   "cell_type": "code",
   "execution_count": null,
   "metadata": {},
   "outputs": [],
   "source": [
    "ax = df[('bwa_mem_to_bam_writing_minutes','mean')].plot(\n",
    "    style='-x', \n",
    "    ylim=[0,None], \n",
    "    title='BWA, Wall Clock Time, Mixed Data Layout',\n",
    "    grid=True,\n",
    ")\n",
    "ax.figure.savefig('bwa_wall_clock_times.svg')"
   ]
  },
  {
   "cell_type": "code",
   "execution_count": null,
   "metadata": {},
   "outputs": [],
   "source": [
    "ax = df[('haplotypecaller_minutes','mean')].plot(\n",
    "    style='-x', \n",
    "    ylim=[0,None], \n",
    "    title='HC, Wall Clock Time, Mixed Data Layout',\n",
    "    grid=True,\n",
    ")\n",
    "ax.figure.savefig('hc_wall_clock_times.svg')"
   ]
  },
  {
   "cell_type": "code",
   "execution_count": null,
   "metadata": {},
   "outputs": [],
   "source": [
    "ax = df[('deepvariant_minutes','mean')].plot(\n",
    "    style='-x', \n",
    "    ylim=[0,None], \n",
    "    title='DV, Wall Clock Time, Mixed Data Layout',\n",
    "    grid=True,\n",
    ")\n",
    "ax.figure.savefig('dv_wall_clock_times.svg')"
   ]
  },
  {
   "cell_type": "markdown",
   "metadata": {},
   "source": [
    "## Server-Minutes"
   ]
  },
  {
   "cell_type": "code",
   "execution_count": null,
   "metadata": {},
   "outputs": [],
   "source": [
    "groupby_cols = [\n",
    "    'coverage_binned',\n",
    "    'num_gpus',\n",
    "]\n",
    "agg_cols = [\n",
    "    'total_server_minutes',\n",
    "    'bwa_mem_to_bam_writing_server_minutes',\n",
    "    'haplotypecaller_server_minutes',\n",
    "    'deepvariant_server_minutes',\n",
    "]\n",
    "df = filt_df[groupby_cols + agg_cols].groupby(groupby_cols).agg(['min','mean','max']).unstack(['num_gpus'])\n",
    "df.to_excel('results_server_minutes.xlsx')\n",
    "df.T"
   ]
  },
  {
   "cell_type": "code",
   "execution_count": null,
   "metadata": {},
   "outputs": [],
   "source": [
    "ax = df[('bwa_mem_to_bam_writing_server_minutes','mean')].plot(\n",
    "    style='-x', \n",
    "    ylim=[0,None], \n",
    "    title='BWA, Server-Minutes, Mixed Data Layout',\n",
    "    grid=True,\n",
    ")\n",
    "ax.figure.savefig('bwa_server_minutes.svg')"
   ]
  },
  {
   "cell_type": "code",
   "execution_count": null,
   "metadata": {},
   "outputs": [],
   "source": [
    "ax = df[('haplotypecaller_server_minutes','mean')].plot(\n",
    "    style='-x', \n",
    "    ylim=[0,None], \n",
    "    title='HC, Server-Minutes, Mixed Data Layout',\n",
    "    grid=True,\n",
    ")\n",
    "ax.figure.savefig('hc_server_minutes.svg')"
   ]
  },
  {
   "cell_type": "code",
   "execution_count": null,
   "metadata": {},
   "outputs": [],
   "source": [
    "ax = df[('deepvariant_server_minutes','mean')].plot(\n",
    "    style='-x', \n",
    "    ylim=[0,None], \n",
    "    title='DV, Server-Minutes, Mixed Data Layout',\n",
    "    grid=True,\n",
    ")\n",
    "ax.figure.savefig('dv_server_minutes.svg')"
   ]
  },
  {
   "cell_type": "code",
   "execution_count": null,
   "metadata": {},
   "outputs": [],
   "source": [
    "ax = df[('total_server_minutes','mean')].plot(\n",
    "    style='-x', \n",
    "    ylim=[0,None], \n",
    "    title='BWA+HC+DV Total Server-Minutes, Mixed Data Layout',\n",
    "    grid=True,\n",
    ")\n",
    "ax.figure.savefig('total_server_minutes.svg')"
   ]
  },
  {
   "cell_type": "markdown",
   "metadata": {},
   "source": [
    "## GPU-Minutes"
   ]
  },
  {
   "cell_type": "code",
   "execution_count": null,
   "metadata": {},
   "outputs": [],
   "source": [
    "groupby_cols = [\n",
    "    'coverage_binned',\n",
    "    'num_gpus',\n",
    "]\n",
    "agg_cols = [\n",
    "    'total_gpu_minutes',\n",
    "    'bwa_mem_to_bam_writing_gpu_minutes',\n",
    "    'haplotypecaller_gpu_minutes',\n",
    "    'deepvariant_gpu_minutes',\n",
    "]\n",
    "df = filt_df[groupby_cols + agg_cols].groupby(groupby_cols).agg(['min','mean','max']).unstack(['num_gpus'])\n",
    "df.to_excel('results_gpu_minutes.xlsx')\n",
    "df.T"
   ]
  },
  {
   "cell_type": "code",
   "execution_count": null,
   "metadata": {},
   "outputs": [],
   "source": [
    "ax = df[('bwa_mem_to_bam_writing_gpu_minutes','mean')].plot(\n",
    "    style='-x', \n",
    "    ylim=[0,None], \n",
    "    title='BWA, GPU-Minutes, Mixed Data Layout',\n",
    "    grid=True,\n",
    ")\n",
    "ax.figure.savefig('bwa_gpu_minutes.svg')"
   ]
  },
  {
   "cell_type": "code",
   "execution_count": null,
   "metadata": {},
   "outputs": [],
   "source": [
    "ax = df[('haplotypecaller_gpu_minutes','mean')].plot(\n",
    "    style='-x', \n",
    "    ylim=[0,None], \n",
    "    title='HC, GPU-Minutes, Mixed Data Layout',\n",
    "    grid=True,\n",
    ")\n",
    "ax.figure.savefig('hc_gpu_minutes.svg')"
   ]
  },
  {
   "cell_type": "code",
   "execution_count": null,
   "metadata": {},
   "outputs": [],
   "source": [
    "ax = df[('deepvariant_gpu_minutes','mean')].plot(\n",
    "    style='-x', \n",
    "    ylim=[0,None], \n",
    "    title='DV, GPU-Minutes, Mixed Data Layout',\n",
    "    grid=True,\n",
    ")\n",
    "ax.figure.savefig('dv_gpu_minutes.svg')"
   ]
  },
  {
   "cell_type": "code",
   "execution_count": null,
   "metadata": {},
   "outputs": [],
   "source": [
    "ax = df[('total_gpu_minutes','mean')].plot(\n",
    "    style='-x', \n",
    "    ylim=[0,None], \n",
    "    title='BWA+HC+DV Total GPU-Minutes, Mixed Data Layout',\n",
    "    grid=True,\n",
    ")\n",
    "ax.figure.savefig('total_gpu_minutes.svg')"
   ]
  },
  {
   "cell_type": "markdown",
   "metadata": {},
   "source": [
    "## File Sizes"
   ]
  },
  {
   "cell_type": "code",
   "execution_count": null,
   "metadata": {},
   "outputs": [],
   "source": [
    "groupby_cols = [\n",
    "    'coverage_binned',\n",
    "]\n",
    "agg_cols = [\n",
    "    'fq_file_size_GB',\n",
    "    'bam_file_size_GB',\n",
    "    'haplotypecaller_gvcf_file_size_GB',\n",
    "    'deepvariant_gvcf_file_size_GB',\n",
    "]\n",
    "df = filt_df[groupby_cols + agg_cols].groupby(groupby_cols).agg(['min','mean','max'])\n",
    "df.to_excel('results_file_sizes.xlsx')\n",
    "df"
   ]
  },
  {
   "cell_type": "code",
   "execution_count": null,
   "metadata": {},
   "outputs": [],
   "source": [
    "ax = df[[('fq_file_size_GB','mean'),\n",
    "    ('bam_file_size_GB','mean'),\n",
    "    ('haplotypecaller_gvcf_file_size_GB','mean'),\n",
    "    ('deepvariant_gvcf_file_size_GB','mean')]].plot(\n",
    "    style='-x', \n",
    "    figsize=(12,4),\n",
    "    ylim=[0,None], \n",
    "    title='File Sizes',\n",
    "    grid=True,\n",
    ")\n",
    "ax.figure.savefig('file_sizes.svg')"
   ]
  },
  {
   "cell_type": "code",
   "execution_count": null,
   "metadata": {},
   "outputs": [],
   "source": [
    "filt_df[['sample_id', 'coverage', 'num_gpus']].sort_values(['coverage'])"
   ]
  },
  {
   "cell_type": "code",
   "execution_count": null,
   "metadata": {},
   "outputs": [],
   "source": [
    "filt3_df = filter_dataframe(\n",
    "    filt_df,\n",
    "#     coverage=(68,85),\n",
    "    hostname='dgx2-1',\n",
    "    num_gpus=16,\n",
    ")\n",
    "len(filt3_df)"
   ]
  },
  {
   "cell_type": "code",
   "execution_count": null,
   "metadata": {},
   "outputs": [],
   "source": [
    "# Get timestamps of different phases.\n",
    "filt3_df[[\n",
    "    'sample_id',\n",
    "    'coverage',\n",
    "    'hostname',\n",
    "    'bwa_mem_to_bam_writing_utc_begin',\n",
    "    'bwa_mem_utc_end',\n",
    "    'haplotypecaller_utc_begin',\n",
    "    'deepvariant_utc_begin',\n",
    "    'deepvariant_utc_end',\n",
    "]].sort_values(['bwa_mem_to_bam_writing_utc_begin'])"
   ]
  },
  {
   "cell_type": "code",
   "execution_count": null,
   "metadata": {},
   "outputs": [],
   "source": [
    "filt4_df = filter_dataframe(\n",
    "    filt_df,\n",
    "    coverage_binned=40,\n",
    "#     num_gpus=4,\n",
    "    sample_id='LP6005443-DNA_H08',\n",
    ")\n",
    "len(filt4_df)"
   ]
  },
  {
   "cell_type": "code",
   "execution_count": null,
   "metadata": {},
   "outputs": [],
   "source": [
    "filt4_df[['sample_id','batch_uuid','coverage','num_gpus']]"
   ]
  },
  {
   "cell_type": "markdown",
   "metadata": {},
   "source": [
    "# Compare Data Layouts"
   ]
  },
  {
   "cell_type": "code",
   "execution_count": null,
   "metadata": {},
   "outputs": [],
   "source": [
    "# Define columns that identify test parameters\n",
    "param_cols = [\n",
    "    'sample_id',\n",
    "    'coverage',\n",
    "    'data_layout',\n",
    "]"
   ]
  },
  {
   "cell_type": "code",
   "execution_count": null,
   "metadata": {},
   "outputs": [],
   "source": [
    "# Define columns that are the output of the experiments\n",
    "output_cols = [\n",
    "    'bwa_mem_to_bam_writing_minutes',\n",
    "]"
   ]
  },
  {
   "cell_type": "code",
   "execution_count": null,
   "metadata": {},
   "outputs": [],
   "source": [
    "cols = param_cols + output_cols"
   ]
  },
  {
   "cell_type": "code",
   "execution_count": null,
   "metadata": {},
   "outputs": [],
   "source": [
    "filt_df = filter_dataframe(\n",
    "    clean_df,\n",
    "    batch_uuid=[\n",
    "        '791fbb1a-ddc9-4fff-aedf-b638c94a116f', # all local\n",
    "        '69510f6c-8201-47e3-8859-dca272998f36', # all Isilon\n",
    "        '155ddaab-addd-46a4-b608-319c071d61d2', # mixed\n",
    "    ],\n",
    ")\n",
    "len(filt_df)"
   ]
  },
  {
   "cell_type": "code",
   "execution_count": null,
   "metadata": {},
   "outputs": [],
   "source": [
    "filt_df[cols].set_index(['coverage','sample_id','data_layout']).unstack(['data_layout'])"
   ]
  },
  {
   "cell_type": "code",
   "execution_count": null,
   "metadata": {},
   "outputs": [],
   "source": [
    "groupby_cols = [\n",
    "    'coverage_binned',\n",
    "    'data_layout',\n",
    "]\n",
    "agg_cols = [\n",
    "    'bwa_mem_to_bam_writing_minutes',\n",
    "]\n",
    "df = filt_df[groupby_cols + agg_cols].groupby(groupby_cols).agg(['min','mean','max']).unstack(['data_layout'])\n",
    "df.to_excel('results_wall_clock_times_for_data_layout.xlsx')\n",
    "df"
   ]
  },
  {
   "cell_type": "code",
   "execution_count": null,
   "metadata": {},
   "outputs": [],
   "source": []
  }
 ],
 "metadata": {
  "kernelspec": {
   "display_name": "Python 3",
   "language": "python",
   "name": "python3"
  },
  "language_info": {
   "codemirror_mode": {
    "name": "ipython",
    "version": 3
   },
   "file_extension": ".py",
   "mimetype": "text/x-python",
   "name": "python",
   "nbconvert_exporter": "python",
   "pygments_lexer": "ipython3",
   "version": "3.7.3"
  },
  "toc-autonumbering": false,
  "toc-showcode": false,
  "toc-showmarkdowntxt": true,
  "toc-showtags": false
 },
 "nbformat": 4,
 "nbformat_minor": 4
}
