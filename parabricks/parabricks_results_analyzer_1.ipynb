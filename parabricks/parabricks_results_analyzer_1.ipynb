{
 "cells": [
  {
   "cell_type": "markdown",
   "metadata": {},
   "source": [
    "# Initialize"
   ]
  },
  {
   "cell_type": "markdown",
   "metadata": {},
   "source": [
    "To install prerequisites, open a terminal in Jupyter and run the following commands:\n",
    "```\n",
    "git clone https://github.com/claudiofahey/p3_test_driver\n",
    "cd p3_test_driver\n",
    "pip install -e p3_data\n",
    "pip install openpyxl\n",
    "```\n",
    "Then restart the Python kernel."
   ]
  },
  {
   "cell_type": "code",
   "execution_count": null,
   "metadata": {},
   "outputs": [],
   "source": [
    "%matplotlib inline\n",
    "import pandas as pd\n",
    "import numpy as np\n",
    "import matplotlib\n",
    "import matplotlib.pylab as plt\n",
    "import matplotlib.dates as mdates\n",
    "import matplotlib.cm as cm\n",
    "import seaborn as sns\n",
    "import json\n",
    "from io import StringIO\n",
    "import importlib\n",
    "import re"
   ]
  },
  {
   "cell_type": "code",
   "execution_count": null,
   "metadata": {},
   "outputs": [],
   "source": [
    "import p3_data\n",
    "importlib.reload(p3_data)\n",
    "from p3_data import (glob_file_list , load_json_from_file, merge_dicts, plot_groups, \n",
    "                    get_varying_column_names, filter_dataframe, take_varying_columns,\n",
    "                    load_json_records_as_dataframe, flatten_multiindex_columns,\n",
    "                    regex_first_group)"
   ]
  },
  {
   "cell_type": "markdown",
   "metadata": {
    "toc-hr-collapsed": false
   },
   "source": [
    "# Load and Clean Results"
   ]
  },
  {
   "cell_type": "code",
   "execution_count": null,
   "metadata": {},
   "outputs": [],
   "source": [
    "# Load result files from P3 Test Driver\n",
    "src_files = []\n",
    "src_files += ['../../mnt/isilon/data/genomics/summary/*.json.bz2']\n",
    "raw_df = load_json_records_as_dataframe(src=src_files, ignore_error=True)"
   ]
  },
  {
   "cell_type": "code",
   "execution_count": null,
   "metadata": {},
   "outputs": [],
   "source": [
    "# Clean raw results\n",
    "def clean_result(result):\n",
    "    r = result.copy()\n",
    "    r['clean'] = False\n",
    "    try:\n",
    "        r['utc_begin'] = pd.to_datetime(r['utc_begin'], utc=True)\n",
    "        r['utc_end'] = pd.to_datetime(r['utc_end'], utc=True)\n",
    "        r['germline_sec'] = r.germline_result['elapsed_sec']\n",
    "        r['deepvariant_sec'] = r.deepvariant_result['elapsed_sec']\n",
    "        r['bwa_mem_sec'] = float(regex_first_group('GPU-BWA Mem time: (.*) seconds', r.germline_result['errors'], search=True))\n",
    "        r['error'] = r.germline_result['error'] or r.deepvariant_result['error']\n",
    "        r['num_servers'] = r['num_gpus'] / 16.0  # fraction of server used for this job\n",
    "        if not r['error']:\n",
    "            # GPU-BWA Mem + Sorting + MarkingDups + BQSR Generation + BAM writing\n",
    "            r['bwa_mem_to_bam_writing_sec'] = float(regex_first_group('Processing time: (.*) seconds', r.germline_result['errors'], search=True))\n",
    "            # Sorting + MarkingDups + BQSR Generation + BAM writing\n",
    "            r['sorting_to_bam_writing_sec'] = r['bwa_mem_to_bam_writing_sec'] - r['bwa_mem_sec']\n",
    "            r['haplotypecaller_sec'] = float(regex_first_group('Total time taken: (.*)', r.germline_result['errors'], search=True))\n",
    "            r['germline_minutes'] = r['germline_sec'] / 60.0\n",
    "            r['bwa_mem_minutes'] = r['bwa_mem_sec'] / 60.0\n",
    "            r['bwa_mem_to_bam_writing_minutes'] = r['bwa_mem_to_bam_writing_sec'] / 60.0\n",
    "            r['sorting_to_bam_writing_minutes'] = r['sorting_to_bam_writing_sec'] / 60.0\n",
    "            r['haplotypecaller_minutes'] = r['haplotypecaller_sec'] / 60.0\n",
    "            r['deepvariant_minutes'] = r['deepvariant_sec'] / 60.0\n",
    "            r['bwa_mem_to_bam_writing_server_minutes'] = r['num_servers'] * r['bwa_mem_to_bam_writing_sec'] / 60.0\n",
    "            r['haplotypecaller_server_minutes'] = r['num_servers'] * r['haplotypecaller_sec'] / 60.0\n",
    "            r['deepvariant_server_minutes'] = r['num_servers'] * r['deepvariant_sec'] / 60.0            \n",
    "            r['fq_file_size_bytes'] = np.sum(r.fq_file_sizes)\n",
    "            r['fq_file_size_GB'] = r['fq_file_size_bytes'] * 1e-9\n",
    "            r['bam_file_size_GB'] = r['bam_file_size_bytes'] * 1e-9\n",
    "            r['haplotypecaller_gvcf_file_size_GB'] = r['haplotypecaller_gvcf_file_size_bytes'] * 1e-9\n",
    "            r['deepvariant_gvcf_file_size_GB'] = r['deepvariant_gvcf_file_size_bytes'] * 1e-9\n",
    "        r['clean'] = True\n",
    "    except Exception as e:\n",
    "        print('ERROR: %s: %s' % (r['record_uuid'], e))\n",
    "#         raise e\n",
    "    return pd.Series(r)"
   ]
  },
  {
   "cell_type": "code",
   "execution_count": null,
   "metadata": {},
   "outputs": [],
   "source": [
    "# r = clean_result(raw_df.iloc[-1])\n",
    "# pd.DataFrame(r)"
   ]
  },
  {
   "cell_type": "code",
   "execution_count": null,
   "metadata": {},
   "outputs": [],
   "source": [
    "clean1_df = raw_df.apply(clean_result, axis=1)\n",
    "clean1_df = clean1_df.set_index('record_uuid', drop=False)\n",
    "clean1_df = clean1_df[clean1_df.clean==True]\n",
    "clean1_df = clean1_df[clean1_df.error==False]\n",
    "clean1_df = clean1_df.sort_values(['utc_begin'])"
   ]
  },
  {
   "cell_type": "code",
   "execution_count": null,
   "metadata": {},
   "outputs": [],
   "source": [
    "clean1_df.T"
   ]
  },
  {
   "cell_type": "code",
   "execution_count": null,
   "metadata": {},
   "outputs": [],
   "source": [
    "sample_ids_df = pd.read_csv('sample_ids_300.csv').set_index(['sample_id'])\n",
    "sample_ids_df.head()"
   ]
  },
  {
   "cell_type": "code",
   "execution_count": null,
   "metadata": {},
   "outputs": [],
   "source": [
    "clean_df = clean1_df.join(sample_ids_df, on=['sample_id'])\n",
    "clean_df['coverage_binned'] = pd.cut(clean_df['coverage'], bins=[35,40,45,50,51.7,68,80,85], right=False).apply(lambda x: np.round(x.left))\n",
    "clean_df.head(3).T"
   ]
  },
  {
   "cell_type": "markdown",
   "metadata": {
    "toc-hr-collapsed": true
   },
   "source": [
    "# Explore Data"
   ]
  },
  {
   "cell_type": "code",
   "execution_count": null,
   "metadata": {},
   "outputs": [],
   "source": [
    "# Define columns that identify test parameters\n",
    "param_cols = [\n",
    "    'sample_id',\n",
    "    'coverage',\n",
    "    'num_gpus',\n",
    "]"
   ]
  },
  {
   "cell_type": "code",
   "execution_count": null,
   "metadata": {},
   "outputs": [],
   "source": [
    "# Define columns that are the output of the experiments\n",
    "output_cols = [\n",
    "#     'utc_begin',\n",
    "    'bwa_mem_to_bam_writing_minutes',\n",
    "    'haplotypecaller_minutes',\n",
    "    'deepvariant_minutes',\n",
    "]"
   ]
  },
  {
   "cell_type": "code",
   "execution_count": null,
   "metadata": {},
   "outputs": [],
   "source": [
    "cols = param_cols + output_cols"
   ]
  },
  {
   "cell_type": "code",
   "execution_count": null,
   "metadata": {},
   "outputs": [],
   "source": [
    "# View most recent results\n",
    "clean_df[cols].tail(3).T"
   ]
  },
  {
   "cell_type": "code",
   "execution_count": null,
   "metadata": {},
   "outputs": [],
   "source": [
    "clean_df[cols].set_index(['sample_id']).sort_values(['coverage'])"
   ]
  },
  {
   "cell_type": "markdown",
   "metadata": {},
   "source": [
    "# Export Results"
   ]
  },
  {
   "cell_type": "code",
   "execution_count": null,
   "metadata": {},
   "outputs": [],
   "source": [
    "filt_df = filter_dataframe(\n",
    "    clean_df,\n",
    "    batch_uuid=['c9bd8b49-42ec-48de-a80f-99bcd0770964'],\n",
    ")\n",
    "len(filt_df)"
   ]
  },
  {
   "cell_type": "code",
   "execution_count": null,
   "metadata": {},
   "outputs": [],
   "source": [
    "filt_df[cols].set_index(['coverage','sample_id','num_gpus']).unstack(['num_gpus'])"
   ]
  },
  {
   "cell_type": "code",
   "execution_count": null,
   "metadata": {},
   "outputs": [],
   "source": [
    "groupby_cols = [\n",
    "    'coverage_binned',\n",
    "    'num_gpus',\n",
    "]\n",
    "df = filt_df.groupby(groupby_cols).agg({'coverage': ['min','mean','max','size']}).unstack(['num_gpus'])\n",
    "df.to_excel('results_coverage.xlsx')\n",
    "df"
   ]
  },
  {
   "cell_type": "code",
   "execution_count": null,
   "metadata": {},
   "outputs": [],
   "source": [
    "groupby_cols = [\n",
    "    'coverage_binned',\n",
    "    'num_gpus',\n",
    "]\n",
    "agg_cols = [\n",
    "    'bwa_mem_to_bam_writing_minutes',\n",
    "    'haplotypecaller_minutes',\n",
    "    'deepvariant_minutes',\n",
    "]\n",
    "df = filt_df[groupby_cols + agg_cols].groupby(groupby_cols).agg(['min','mean','max']).unstack(['num_gpus'])\n",
    "df.to_excel('results_wall_clock_times.xlsx')\n",
    "df"
   ]
  },
  {
   "cell_type": "code",
   "execution_count": null,
   "metadata": {},
   "outputs": [],
   "source": [
    "groupby_cols = [\n",
    "    'coverage_binned',\n",
    "    'num_gpus',\n",
    "]\n",
    "agg_cols = [\n",
    "    'bwa_mem_to_bam_writing_server_minutes',\n",
    "    'haplotypecaller_server_minutes',\n",
    "    'deepvariant_server_minutes',\n",
    "]\n",
    "df = filt_df[groupby_cols + agg_cols].groupby(groupby_cols).agg(['min','mean','max']).unstack(['num_gpus'])\n",
    "df.to_excel('results_server_minutes.xlsx')\n",
    "df"
   ]
  },
  {
   "cell_type": "code",
   "execution_count": null,
   "metadata": {},
   "outputs": [],
   "source": [
    "groupby_cols = [\n",
    "    'coverage_binned',\n",
    "]\n",
    "agg_cols = [\n",
    "    'fq_file_size_GB',\n",
    "    'bam_file_size_GB',\n",
    "    'haplotypecaller_gvcf_file_size_GB',\n",
    "    'deepvariant_gvcf_file_size_GB',\n",
    "]\n",
    "df = filt_df[groupby_cols + agg_cols].groupby(groupby_cols).agg(['min','mean','max'])\n",
    "df.to_excel('results_file_sizes.xlsx')\n",
    "df"
   ]
  },
  {
   "cell_type": "code",
   "execution_count": null,
   "metadata": {},
   "outputs": [],
   "source": [
    "filt_df[['sample_id', 'coverage', 'num_gpus']].sort_values(['coverage'])"
   ]
  },
  {
   "cell_type": "code",
   "execution_count": null,
   "metadata": {},
   "outputs": [],
   "source": []
  }
 ],
 "metadata": {
  "kernelspec": {
   "display_name": "Python 3",
   "language": "python",
   "name": "python3"
  },
  "language_info": {
   "codemirror_mode": {
    "name": "ipython",
    "version": 3
   },
   "file_extension": ".py",
   "mimetype": "text/x-python",
   "name": "python",
   "nbconvert_exporter": "python",
   "pygments_lexer": "ipython3",
   "version": "3.7.3"
  },
  "toc-autonumbering": false,
  "toc-showcode": false,
  "toc-showmarkdowntxt": true,
  "toc-showtags": false
 },
 "nbformat": 4,
 "nbformat_minor": 4
}
